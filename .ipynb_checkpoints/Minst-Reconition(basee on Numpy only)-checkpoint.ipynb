{
 "cells": [
  {
   "cell_type": "markdown",
   "id": "149c2cc7-eafc-435a-94c4-bdf5042b9f63",
   "metadata": {},
   "source": [
    "# 一个仅基于Numpy的MNIST手写数字识别"
   ]
  },
  {
   "cell_type": "markdown",
   "id": "3189a6a1-bd36-4469-bb32-e0438b1241ee",
   "metadata": {},
   "source": [
    "为了深入理解dnn中各种模块的作用与原理,在使用Pytorch或者TensorFlow等框架构建了简单的神经网络后,可以尝试仅使用Numpy辅助矩阵运算来构建一个与使用模块构建的网络功能完全一致的简单神经网络.这样可以更加深入理解深度学习的原理"
   ]
  },
  {
   "cell_type": "markdown",
   "id": "6fa57f99-d83b-47dd-8289-48d98db0d690",
   "metadata": {},
   "source": [
    "## 函数定义\n",
    "    1.将所需用到的所有的激活函数定义在(/Activationn_Function.ipynb)中\n",
    "    2.将梯度计算方法定义在(/Gradientn_Calculating.ipynb)中\n",
    "    3.将损失函数定义在(/Lossn_Function.ipynb)中\n",
    "    4.将神经网络主题定义在(/Minstn_Reconition(basee on Numpy only).ipynb)中"
   ]
  },
  {
   "cell_type": "markdown",
   "id": "263d61fe-893c-4033-872a-e8721d583a20",
   "metadata": {},
   "source": [
    "## 外部库导入"
   ]
  },
  {
   "cell_type": "code",
   "execution_count": 7,
   "id": "a4ed2348-4580-46c5-ba9d-ed51542c30da",
   "metadata": {},
   "outputs": [],
   "source": [
    "import numpy as np\n",
    "from torchvision import datasets #仅为了加载数据集"
   ]
  },
  {
   "cell_type": "markdown",
   "id": "0cdf0558-4145-45fa-ac48-d5603999a4d8",
   "metadata": {},
   "source": [
    "## 本地模块导入\t"
   ]
  },
  {
   "cell_type": "code",
   "execution_count": 11,
   "id": "6d5bb253-e8d5-4c92-a31a-73d40ec7818e",
   "metadata": {},
   "outputs": [
    {
     "ename": "ModuleNotFoundError",
     "evalue": "No module named 'Activation_Function'",
     "output_type": "error",
     "traceback": [
      "\u001b[1;31m---------------------------------------------------------------------------\u001b[0m",
      "\u001b[1;31mModuleNotFoundError\u001b[0m                       Traceback (most recent call last)",
      "Cell \u001b[1;32mIn[11], line 1\u001b[0m\n\u001b[1;32m----> 1\u001b[0m \u001b[38;5;28;01mimport\u001b[39;00m \u001b[38;5;21;01mActivation_Function\u001b[39;00m \u001b[38;5;28;01mas\u001b[39;00m \u001b[38;5;21;01maf\u001b[39;00m\n\u001b[0;32m      2\u001b[0m \u001b[38;5;28;01mimport\u001b[39;00m \u001b[38;5;21;01mGradient_Calculating\u001b[39;00m \u001b[38;5;28;01mas\u001b[39;00m \u001b[38;5;21;01mgc\u001b[39;00m\n\u001b[0;32m      3\u001b[0m \u001b[38;5;28;01mimport\u001b[39;00m \u001b[38;5;21;01mLoss_Function\u001b[39;00m \u001b[38;5;28;01mas\u001b[39;00m \u001b[38;5;21;01mlf\u001b[39;00m\n",
      "\u001b[1;31mModuleNotFoundError\u001b[0m: No module named 'Activation_Function'"
     ]
    }
   ],
   "source": [
    "import Activation_Function as af\n",
    "import Gradient_Calculating as gc\n",
    "import Loss_Function as lf"
   ]
  },
  {
   "cell_type": "code",
   "execution_count": null,
   "id": "6ab0b44d-ebc4-469d-8250-f7f162946c81",
   "metadata": {},
   "outputs": [],
   "source": []
  }
 ],
 "metadata": {
  "kernelspec": {
   "display_name": "Python 3 (ipykernel)",
   "language": "python",
   "name": "python3"
  },
  "language_info": {
   "codemirror_mode": {
    "name": "ipython",
    "version": 3
   },
   "file_extension": ".py",
   "mimetype": "text/x-python",
   "name": "python",
   "nbconvert_exporter": "python",
   "pygments_lexer": "ipython3",
   "version": "3.12.7"
  }
 },
 "nbformat": 4,
 "nbformat_minor": 5
}
