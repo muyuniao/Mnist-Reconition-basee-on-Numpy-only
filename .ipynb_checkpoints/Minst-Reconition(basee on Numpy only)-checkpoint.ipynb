{
 "cells": [
  {
   "cell_type": "markdown",
   "id": "149c2cc7-eafc-435a-94c4-bdf5042b9f63",
   "metadata": {},
   "source": [
    "# 一个仅基于Numpy的MNIST手写数字识别"
   ]
  },
  {
   "cell_type": "markdown",
   "id": "3189a6a1-bd36-4469-bb32-e0438b1241ee",
   "metadata": {},
   "source": [
    "为了深入理解dnn中各种模块的作用与原理,在使用Pytorch或者TensorFlow等框架构建了简单的神经网络后,可以尝试仅使用Numpy辅助矩阵运算来构建一个与使用模块构建的网络功能完全一致的简单神经网络.这样可以更加深入理解深度学习的原理"
   ]
  },
  {
   "cell_type": "markdown",
   "id": "6fa57f99-d83b-47dd-8289-48d98db0d690",
   "metadata": {},
   "source": [
    "## 函数定义\n",
    "    1.将所需用到的所有的激活函数定义在(/Activationn_Function.ipynb)中\n",
    "    2.将梯度计算方法定义在(/Gradientn_Calculating.ipynb)中\n",
    "    3.将损失函数定义在(/Lossn_Function.ipynb)中\n",
    "    4.将神经网络主题定义在(/Minstn_Reconition(basee on Numpy only).ipynb)中"
   ]
  },
  {
   "cell_type": "markdown",
   "id": "263d61fe-893c-4033-872a-e8721d583a20",
   "metadata": {},
   "source": [
    "## 外部库导入"
   ]
  },
  {
   "cell_type": "code",
   "execution_count": 24,
   "id": "a4ed2348-4580-46c5-ba9d-ed51542c30da",
   "metadata": {},
   "outputs": [],
   "source": [
    "import numpy as np\n",
    "from tensorflow.keras.datasets import mnist #仅为了加载数据集"
   ]
  },
  {
   "cell_type": "markdown",
   "id": "0cdf0558-4145-45fa-ac48-d5603999a4d8",
   "metadata": {},
   "source": [
    "## 本地模块导入\t"
   ]
  },
  {
   "cell_type": "code",
   "execution_count": 25,
   "id": "6d5bb253-e8d5-4c92-a31a-73d40ec7818e",
   "metadata": {},
   "outputs": [],
   "source": [
    "import Activation_Function as af\n",
    "import Gradient_Calculating as gc\n",
    "import Loss_Function as lf"
   ]
  },
  {
   "cell_type": "code",
   "execution_count": 26,
   "id": "6ab0b44d-ebc4-469d-8250-f7f162946c81",
   "metadata": {},
   "outputs": [],
   "source": [
    "class TwoLayerNet:\n",
    "\n",
    "    def __init__(self, input_size, hidden_size, output_size, weight_init_std=0.01):\n",
    "        # 初始化权重\n",
    "        self.params = {}\n",
    "        self.params['W1'] = weight_init_std * np.random.randn(input_size, hidden_size)\n",
    "        self.params['b1'] = np.zeros(hidden_size)\n",
    "        self.params['W2'] = weight_init_std * np.random.randn(hidden_size, output_size)\n",
    "        self.params['b2'] = np.zeros(output_size)\n",
    "\n",
    "    def predict(self, x):\n",
    "        W1, W2 = self.params['W1'], self.params['W2']\n",
    "        b1, b2 = self.params['b1'], self.params['b2']\n",
    "\n",
    "        a1 = np.dot(x, W1) + b1\n",
    "        #z1 = af.sigmoid(a1)\n",
    "        z1 = af.relu(a1)\n",
    "        a2 = np.dot(z1, W2) + b2\n",
    "        y = af.softmax(a2)\n",
    "\n",
    "        return y\n",
    "\n",
    "    # x:输入数据, t:监督数据\n",
    "    def loss(self, x, t):\n",
    "        y = self.predict(x)\n",
    "\n",
    "        return lf.cross_entropy_error(y, t)\n",
    "\n",
    "    def accuracy(self, x, t):\n",
    "        y = self.predict(x)\n",
    "        y = np.argmax(y, axis=1)\n",
    "        t = np.argmax(t, axis=1)\n",
    "\n",
    "        accuracy = np.sum(y == t) / float(x.shape[0])\n",
    "        return accuracy\n",
    "\n",
    "    # x:输入数据, t:监督数据\n",
    "    def numerical_gradient(self, x, t):\n",
    "        loss_W = lambda W: self.loss(x, t)\n",
    "\n",
    "        grads = {}\n",
    "        grads['W1'] = numerical_gradient(loss_W, self.params['W1'])\n",
    "        grads['b1'] = numerical_gradient(loss_W, self.params['b1'])\n",
    "        grads['W2'] = numerical_gradient(loss_W, self.params['W2'])\n",
    "        grads['b2'] = numerical_gradient(loss_W, self.params['b2'])\n",
    "\n",
    "        return grads\n",
    "\n",
    "    def gradient(self, x, t):\n",
    "        W1, W2 = self.params['W1'], self.params['W2']\n",
    "        b1, b2 = self.params['b1'], self.params['b2']\n",
    "        grads = {}\n",
    "\n",
    "        batch_num = x.shape[0]\n",
    "\n",
    "        # forward\n",
    "        a1 = np.dot(x, W1) + b1\n",
    "        #z1 = af.sigmoid(a1)\n",
    "        z1 = af.relu(a1)\n",
    "        a2 = np.dot(z1, W2) + b2\n",
    "        y = af.softmax(a2)\n",
    "\n",
    "        # backward\n",
    "        dy = (y - t) / batch_num\n",
    "        grads['W2'] = np.dot(z1.T, dy)\n",
    "        grads['b2'] = np.sum(dy, axis=0)\n",
    "\n",
    "        da1 = np.dot(dy, W2.T)\n",
    "        #dz1 = af.sigmoid_grad(a1) * da1\n",
    "        dz1 = af.relu_grad(a1) * da1\n",
    "        grads['W1'] = np.dot(x.T, dz1)\n",
    "        grads['b1'] = np.sum(dz1, axis=0)\n",
    "\n",
    "        return grads\n",
    "\n"
   ]
  },
  {
   "cell_type": "markdown",
   "id": "62d74750-166a-46a7-9729-8e6770a465d4",
   "metadata": {},
   "source": [
    "## 转化独热编码函数"
   ]
  },
  {
   "cell_type": "code",
   "execution_count": 27,
   "id": "3993df02-641f-4df3-88f0-b58154de3c3c",
   "metadata": {},
   "outputs": [],
   "source": [
    "def _change_one_hot_label(X):\n",
    "    T = np.zeros((X.size, 10))\n",
    "    for idx, row in enumerate(T):\n",
    "        row[X[idx]] = 1\n",
    "\n",
    "    return T"
   ]
  },
  {
   "cell_type": "markdown",
   "id": "f09f2a82-4d19-4509-aec8-a985a1e6f7e6",
   "metadata": {},
   "source": [
    "## 载入数据"
   ]
  },
  {
   "cell_type": "code",
   "execution_count": 28,
   "id": "ad4091c1-d122-494f-ae32-998824c9d3d6",
   "metadata": {},
   "outputs": [],
   "source": [
    "(x_train, y_train), (x_test, y_test) = mnist.load_data()\n",
    "x_train, x_test = x_train / 255.0, x_test / 255.0 #归一化\n",
    "x_train = x_train.reshape(-1,784)  # flatten, (60000,28,28)变（60000,784）\n",
    "x_test = x_test.reshape(-1,784)  # flatten, (10000,28,28)变（10000,784）\n",
    "y_train = _change_one_hot_label(y_train) #标签变独热码，才能和前向传播softmax之后的结果维度匹配，才能相减算误差\n",
    "y_test = _change_one_hot_label(y_test) #标签变独热码"
   ]
  },
  {
   "cell_type": "markdown",
   "id": "39b26db6-0866-4cbc-9e1e-38ffd02b38b1",
   "metadata": {},
   "source": [
    "## 实例化模型"
   ]
  },
  {
   "cell_type": "code",
   "execution_count": 29,
   "id": "7d72a752-be79-49fc-b2b5-eb8d6dd5206d",
   "metadata": {},
   "outputs": [],
   "source": [
    "#两层DNN(隐藏层50个神经元，784*50*10)，激活函数是relu，可自己改成sigmoid，损失函数是交叉熵误差，输出层是softmax，优化函数是SGD\n",
    "network = TwoLayerNet(input_size=784, hidden_size=50, output_size=10)"
   ]
  },
  {
   "cell_type": "markdown",
   "id": "d636e45d-0a16-4d7a-bd1e-0dd9f483681b",
   "metadata": {},
   "source": [
    "## 超参数设置"
   ]
  },
  {
   "cell_type": "code",
   "execution_count": 30,
   "id": "b89722a1-ab14-4ebb-a26f-c3fbc8582d7a",
   "metadata": {},
   "outputs": [],
   "source": [
    "iters_num = 10000\n",
    "train_size = x_train.shape[0]\n",
    "batch_size = 512\n",
    "learning_rate = 0.05\n",
    "\n",
    "train_loss_list = []\n",
    "train_acc_list = []\n",
    "test_acc_list = []\n",
    "\n",
    "iter_per_epoch = max(train_size / batch_size, 1)"
   ]
  },
  {
   "cell_type": "markdown",
   "id": "e0a0d29a-9e27-4941-b974-0cd0572e8752",
   "metadata": {},
   "source": [
    "## 训练"
   ]
  },
  {
   "cell_type": "code",
   "execution_count": 31,
   "id": "8d01a271-c411-4eb3-b414-82b00693f155",
   "metadata": {},
   "outputs": [
    {
     "name": "stdout",
     "output_type": "stream",
     "text": [
      "0.09505 0.0961\n",
      "0.09871666666666666 0.098\n",
      "0.0987 0.0981\n",
      "0.09871666666666666 0.098\n",
      "0.09871666666666666 0.098\n",
      "0.09871666666666666 0.098\n"
     ]
    }
   ],
   "source": [
    "for i in range(iters_num):\n",
    "    batch_mask = np.random.choice(train_size, batch_size)\n",
    "    x_batch = x_train[batch_mask]\n",
    "    y_batch = y_train[batch_mask]\n",
    "\n",
    "    # 梯度\n",
    "    # grad = network.numerical_gradient(x_batch, t_batch)\n",
    "    grad = network.gradient(x_batch, y_batch)\n",
    "\n",
    "    # 更新\n",
    "    for key in ('W1', 'b1', 'W2', 'b2'):\n",
    "        network.params[key] -= learning_rate * grad[key]\n",
    "\n",
    "    loss = network.loss(x_batch, y_batch)\n",
    "    train_loss_list.append(loss)\n",
    "\n",
    "    #每一个epoch打印训练和测试的准确率\n",
    "    if i % iter_per_epoch == 0:\n",
    "        train_acc = network.accuracy(x_train, y_train)\n",
    "        test_acc = network.accuracy(x_test, y_test)\n",
    "        train_acc_list.append(train_acc)\n",
    "        test_acc_list.append(test_acc)\n",
    "        print(train_acc, test_acc)"
   ]
  }
 ],
 "metadata": {
  "kernelspec": {
   "display_name": "Python 3 (ipykernel)",
   "language": "python",
   "name": "python3"
  },
  "language_info": {
   "codemirror_mode": {
    "name": "ipython",
    "version": 3
   },
   "file_extension": ".py",
   "mimetype": "text/x-python",
   "name": "python",
   "nbconvert_exporter": "python",
   "pygments_lexer": "ipython3",
   "version": "3.12.7"
  }
 },
 "nbformat": 4,
 "nbformat_minor": 5
}
