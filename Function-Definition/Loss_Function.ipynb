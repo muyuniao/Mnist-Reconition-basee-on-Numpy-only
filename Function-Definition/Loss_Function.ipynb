{
 "cells": [
  {
   "cell_type": "markdown",
   "id": "4ef62038-d5aa-472c-a99a-768cc9768dee",
   "metadata": {},
   "source": [
    "# 定义损失函数"
   ]
  },
  {
   "cell_type": "code",
   "execution_count": 3,
   "id": "56635445-9b88-4d7d-b972-93b963b7cd14",
   "metadata": {},
   "outputs": [],
   "source": [
    "import numpy as np"
   ]
  },
  {
   "cell_type": "markdown",
   "id": "f85b0289-2332-4c9c-bd3f-5c7116deec0c",
   "metadata": {},
   "source": [
    "## 均方误差函数"
   ]
  },
  {
   "cell_type": "code",
   "execution_count": 4,
   "id": "bd6fe812-4733-4e44-8ef6-f9649cb1653f",
   "metadata": {},
   "outputs": [],
   "source": [
    "def mse(y,t):\n",
    "    return 0.5 * np.sum((y - t) ** 2)"
   ]
  },
  {
   "cell_type": "markdown",
   "id": "0101ab5a-0f7d-4370-ae4a-d1b08ca698b1",
   "metadata": {},
   "source": [
    "## 交叉熵误差函数"
   ]
  },
  {
   "cell_type": "code",
   "execution_count": 1,
   "id": "d59cdf75-b080-4f9a-9da8-2a711fc306fc",
   "metadata": {},
   "outputs": [],
   "source": [
    "def cross_entropy_error(y, t):\n",
    "    if y.ndim == 1:\n",
    "        t = t.reshape(1, t.size)\n",
    "        y = y.reshape(1, y.size)\n",
    "\n",
    "    # 监督数据是one-hot-vector的情况下，转换为正确解标签的索引\n",
    "    if t.size == y.size:\n",
    "        t = t.argmax(axis=1)\n",
    "\n",
    "    batch_size = y.shape[0]\n",
    "    return -np.sum(np.log(y[np.arange(batch_size), t] + 1e-7)) / batch_size\n"
   ]
  }
 ],
 "metadata": {
  "kernelspec": {
   "display_name": "Python 3 (ipykernel)",
   "language": "python",
   "name": "python3"
  },
  "language_info": {
   "codemirror_mode": {
    "name": "ipython",
    "version": 3
   },
   "file_extension": ".py",
   "mimetype": "text/x-python",
   "name": "python",
   "nbconvert_exporter": "python",
   "pygments_lexer": "ipython3",
   "version": "3.12.7"
  }
 },
 "nbformat": 4,
 "nbformat_minor": 5
}
