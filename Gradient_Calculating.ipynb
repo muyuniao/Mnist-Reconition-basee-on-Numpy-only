{
 "cells": [
  {
   "cell_type": "markdown",
   "id": "8d5437d0-f98d-4e3a-a463-56bf002f5375",
   "metadata": {},
   "source": [
    "# 梯度计算"
   ]
  },
  {
   "cell_type": "markdown",
   "id": "81d5ee32-937e-4fb5-a9ab-aee38a66dd9e",
   "metadata": {},
   "source": [
    "## 数值差分计算函数"
   ]
  },
  {
   "cell_type": "markdown",
   "id": "7c7deb0d-eae9-4d69-a272-09fafedef0f8",
   "metadata": {},
   "source": [
    " 数值差分计算梯度,本质就是高数中$f'(a) = \\lim_{h \\to 0} \\frac{f(a + h) - f(a)}{h}$,理论上来说h值需要趋近于0,但是由于python中数据精度有限,因此h取到1e-4即0.0001(并且这样取值的误差非常小,一般可以直接忽略)"
   ]
  },
  {
   "cell_type": "code",
   "execution_count": 2,
   "id": "3157302c-3245-4b4d-9543-e4bcb4a2d6e4",
   "metadata": {},
   "outputs": [],
   "source": [
    "def numerical_gradient(f, x):\n",
    "    h = 1e-4  # 0.0001\n",
    "    grad = np.zeros_like(x)\n",
    "\n",
    "    it = np.nditer(x, flags=['multi_index'], op_flags=['readwrite'])\n",
    "    while not it.finished:\n",
    "        idx = it.multi_index\n",
    "        tmp_val = x[idx]\n",
    "        x[idx] = float(tmp_val) + h\n",
    "        fxh1 = f(x)  # f(x+h)\n",
    "\n",
    "        x[idx] = tmp_val - h\n",
    "        fxh2 = f(x)  # f(x-h)\n",
    "        grad[idx] = (fxh1 - fxh2) / (2 * h)\n",
    "\n",
    "        x[idx] = tmp_val  # 还原值\n",
    "        it.iternext()\n",
    "\n",
    "    return grad"
   ]
  }
 ],
 "metadata": {
  "kernelspec": {
   "display_name": "Python 3 (ipykernel)",
   "language": "python",
   "name": "python3"
  },
  "language_info": {
   "codemirror_mode": {
    "name": "ipython",
    "version": 3
   },
   "file_extension": ".py",
   "mimetype": "text/x-python",
   "name": "python",
   "nbconvert_exporter": "python",
   "pygments_lexer": "ipython3",
   "version": "3.12.7"
  }
 },
 "nbformat": 4,
 "nbformat_minor": 5
}
