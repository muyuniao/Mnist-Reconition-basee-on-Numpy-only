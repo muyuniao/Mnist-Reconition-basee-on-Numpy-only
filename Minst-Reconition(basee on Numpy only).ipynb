{
 "cells": [
  {
   "cell_type": "markdown",
   "id": "149c2cc7-eafc-435a-94c4-bdf5042b9f63",
   "metadata": {},
   "source": [
    "# 为了深入理解机器学习的基础概念,搭建一个仅基于Numpy的MNIST数据集手写数字识别"
   ]
  },
  {
   "cell_type": "markdown",
   "id": "6fa57f99-d83b-47dd-8289-48d98db0d690",
   "metadata": {},
   "source": [
    "## 函数定义\n",
    "    将所需用到的所有的激活函数定义在(/Activation-Function.py)中"
   ]
  },
  {
   "cell_type": "code",
   "execution_count": null,
   "id": "e0ed4edc-45bf-472f-91e6-6f4841a3bcd9",
   "metadata": {},
   "outputs": [],
   "source": []
  }
 ],
 "metadata": {
  "kernelspec": {
   "display_name": "Python 3 (ipykernel)",
   "language": "python",
   "name": "python3"
  },
  "language_info": {
   "codemirror_mode": {
    "name": "ipython",
    "version": 3
   },
   "file_extension": ".py",
   "mimetype": "text/x-python",
   "name": "python",
   "nbconvert_exporter": "python",
   "pygments_lexer": "ipython3",
   "version": "3.12.7"
  }
 },
 "nbformat": 4,
 "nbformat_minor": 5
}
