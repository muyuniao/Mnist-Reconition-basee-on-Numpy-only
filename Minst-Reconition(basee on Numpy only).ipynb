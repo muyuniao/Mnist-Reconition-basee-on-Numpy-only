{
 "cells": [
  {
   "cell_type": "markdown",
   "id": "149c2cc7-eafc-435a-94c4-bdf5042b9f63",
   "metadata": {},
   "source": [
    "# 一个仅基于Numpy的MNIST手写数字识别"
   ]
  },
  {
   "cell_type": "markdown",
   "id": "3189a6a1-bd36-4469-bb32-e0438b1241ee",
   "metadata": {},
   "source": [
    "为了深入理解dnn中各种模块的作用与原理,在使用Pytorch或者TensorFlow等框架构建了简单的神经网络后,可以尝试仅使用Numpy辅助矩阵运算来构建一个与使用模块构建的网络功能完全一致的简单神经网络.这样可以更加深入理解深度学习的原理"
   ]
  },
  {
   "cell_type": "markdown",
   "id": "6fa57f99-d83b-47dd-8289-48d98db0d690",
   "metadata": {},
   "source": [
    "## 函数定义\n",
    "    1.将所需用到的所有的激活函数定义在(/Activationn_Function.ipynb)中\n",
    "    2.将梯度计算方法定义在(/Gradientn_Calculating.ipynb)中\n",
    "    3.将损失函数定义在(/Lossn_Function.ipynb)中\n",
    "    4.将神经网络主题定义在(/Minstn_Reconition(basee on Numpy only).ipynb)中"
   ]
  },
  {
   "cell_type": "markdown",
   "id": "263d61fe-893c-4033-872a-e8721d583a20",
   "metadata": {},
   "source": [
    "## 外部库导入"
   ]
  },
  {
   "cell_type": "code",
   "execution_count": 1,
   "id": "a4ed2348-4580-46c5-ba9d-ed51542c30da",
   "metadata": {},
   "outputs": [],
   "source": [
    "import numpy as np\n",
    "from tf.keras.datasets import mnist #仅为了加载数据集"
   ]
  },
  {
   "cell_type": "markdown",
   "id": "0cdf0558-4145-45fa-ac48-d5603999a4d8",
   "metadata": {},
   "source": [
    "## 本地模块导入\t"
   ]
  },
  {
   "cell_type": "code",
   "execution_count": 4,
   "id": "6d5bb253-e8d5-4c92-a31a-73d40ec7818e",
   "metadata": {},
   "outputs": [],
   "source": [
    "import Activation_Function as af\n",
    "import Gradient_Calculating as gc\n",
    "import Loss_Function as lf"
   ]
  },
  {
   "cell_type": "code",
   "execution_count": 5,
   "id": "6ab0b44d-ebc4-469d-8250-f7f162946c81",
   "metadata": {},
   "outputs": [],
   "source": [
    "class TwoLayerNet:\n",
    "\n",
    "    def __init__(self, input_size, hidden_size, output_size, weight_init_std=0.01):\n",
    "        # 初始化权重\n",
    "        self.params = {}\n",
    "        self.params['W1'] = weight_init_std * np.random.randn(input_size, hidden_size)\n",
    "        self.params['b1'] = np.zeros(hidden_size)\n",
    "        self.params['W2'] = weight_init_std * np.random.randn(hidden_size, output_size)\n",
    "        self.params['b2'] = np.zeros(output_size)\n",
    "\n",
    "    def predict(self, x):\n",
    "        W1, W2 = self.params['W1'], self.params['W2']\n",
    "        b1, b2 = self.params['b1'], self.params['b2']\n",
    "\n",
    "        a1 = np.dot(x, W1) + b1\n",
    "        #z1 = af.sigmoid(a1)\n",
    "        z1 = af.relu(a1)\n",
    "        a2 = np.dot(z1, W2) + b2\n",
    "        y = af.softmax(a2)\n",
    "\n",
    "        return y\n",
    "\n",
    "    # x:输入数据, t:监督数据\n",
    "    def loss(self, x, t):\n",
    "        y = self.predict(x)\n",
    "\n",
    "        return cross_entropy_error(y, t)\n",
    "\n",
    "    def accuracy(self, x, t):\n",
    "        y = self.predict(x)\n",
    "        y = np.argmax(y, axis=1)\n",
    "        t = np.argmax(t, axis=1)\n",
    "\n",
    "        accuracy = np.sum(y == t) / float(x.shape[0])\n",
    "        return accuracy\n",
    "\n",
    "    # x:输入数据, t:监督数据\n",
    "    def numerical_gradient(self, x, t):\n",
    "        loss_W = lambda W: self.loss(x, t)\n",
    "\n",
    "        grads = {}\n",
    "        grads['W1'] = numerical_gradient(loss_W, self.params['W1'])\n",
    "        grads['b1'] = numerical_gradient(loss_W, self.params['b1'])\n",
    "        grads['W2'] = numerical_gradient(loss_W, self.params['W2'])\n",
    "        grads['b2'] = numerical_gradient(loss_W, self.params['b2'])\n",
    "\n",
    "        return grads\n",
    "\n",
    "    def gradient(self, x, t):\n",
    "        W1, W2 = self.params['W1'], self.params['W2']\n",
    "        b1, b2 = self.params['b1'], self.params['b2']\n",
    "        grads = {}\n",
    "\n",
    "        batch_num = x.shape[0]\n",
    "\n",
    "        # forward\n",
    "        a1 = np.dot(x, W1) + b1\n",
    "        #z1 = af.sigmoid(a1)\n",
    "        z1 = af.relu(a1)\n",
    "        a2 = np.dot(z1, W2) + b2\n",
    "        y = af.softmax(a2)\n",
    "\n",
    "        # backward\n",
    "        dy = (y - t) / batch_num\n",
    "        grads['W2'] = np.dot(z1.T, dy)\n",
    "        grads['b2'] = np.sum(dy, axis=0)\n",
    "\n",
    "        da1 = np.dot(dy, W2.T)\n",
    "        #dz1 = af.sigmoid_grad(a1) * da1\n",
    "        dz1 = af.relu_grad(a1) * da1\n",
    "        grads['W1'] = np.dot(x.T, dz1)\n",
    "        grads['b1'] = np.sum(dz1, axis=0)\n",
    "\n",
    "        return grads\n",
    "\n"
   ]
  },
  {
   "cell_type": "markdown",
   "id": "62d74750-166a-46a7-9729-8e6770a465d4",
   "metadata": {},
   "source": [
    "## 转化独热编码函数"
   ]
  },
  {
   "cell_type": "code",
   "execution_count": 6,
   "id": "3993df02-641f-4df3-88f0-b58154de3c3c",
   "metadata": {},
   "outputs": [],
   "source": [
    "def _change_one_hot_label(X):\n",
    "    T = np.zeros((X.size, 10))\n",
    "    for idx, row in enumerate(T):\n",
    "        row[X[idx]] = 1\n",
    "\n",
    "    return T"
   ]
  },
  {
   "cell_type": "markdown",
   "id": "f09f2a82-4d19-4509-aec8-a985a1e6f7e6",
   "metadata": {},
   "source": [
    "## 载入数据"
   ]
  },
  {
   "cell_type": "code",
   "execution_count": null,
   "id": "ad4091c1-d122-494f-ae32-998824c9d3d6",
   "metadata": {},
   "outputs": [],
   "source": [
    "#训练集\n",
    "train_dataset=datasets.MNIST(root='./',#等号右侧为数据集的路径,./表示当前路径\n",
    "                             train=True,#\n",
    "                             transform=transforms.ToTensor(),#将MNIST数据集中数据转化为tensor数据\n",
    "                             download=True#若路径不存在数据集,则下载数据\n",
    ")\n",
    "#测试集\n",
    "test_dataset=datasets.MNIST(root='./',\n",
    "                             train=False,\n",
    "                             transform=transforms.ToTensor(),\n",
    "                             download=True\n",
    ")"
   ]
  }
 ],
 "metadata": {
  "kernelspec": {
   "display_name": "Python 3 (ipykernel)",
   "language": "python",
   "name": "python3"
  },
  "language_info": {
   "codemirror_mode": {
    "name": "ipython",
    "version": 3
   },
   "file_extension": ".py",
   "mimetype": "text/x-python",
   "name": "python",
   "nbconvert_exporter": "python",
   "pygments_lexer": "ipython3",
   "version": "3.12.7"
  }
 },
 "nbformat": 4,
 "nbformat_minor": 5
}
