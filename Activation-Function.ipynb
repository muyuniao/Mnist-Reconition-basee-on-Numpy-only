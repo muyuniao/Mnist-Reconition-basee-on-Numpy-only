{
 "cells": [
  {
   "cell_type": "markdown",
   "id": "2fb2c91b-cbda-485d-869b-5aeff0c715a1",
   "metadata": {},
   "source": [
    "# 函数定义文件"
   ]
  },
  {
   "cell_type": "code",
   "execution_count": 3,
   "id": "f984a47f-b075-46ca-909d-84dc7b1df9bf",
   "metadata": {},
   "outputs": [],
   "source": [
    "import numpy as np"
   ]
  },
  {
   "cell_type": "markdown",
   "id": "a4fd2db5-f942-4f05-9e55-3db15798b99a",
   "metadata": {},
   "source": [
    "## sigmoid函数"
   ]
  },
  {
   "cell_type": "code",
   "execution_count": 4,
   "id": "34257224-79e3-4b67-a646-56c20d48048b",
   "metadata": {},
   "outputs": [],
   "source": [
    "def sigmoid(x):\n",
    "    return 1/np.exp(-x)"
   ]
  },
  {
   "cell_type": "markdown",
   "id": "810ac9a8-b5ce-4b5a-9897-9ad03243d475",
   "metadata": {},
   "source": [
    "## softmax函数"
   ]
  },
  {
   "cell_type": "code",
   "execution_count": 5,
   "id": "1ce1cf5b-205f-4989-83b6-3f664c42d1c3",
   "metadata": {},
   "outputs": [],
   "source": [
    "def softmax(x):\n",
    "    x_max=np.max(x)\n",
    "    exp_x=np.exp(x-x_max)#防止溢出\n",
    "    sum_exp_x=np.sum(exp_x)\n",
    "    y=exp_x/sum_exp_x\n",
    "    return y"
   ]
  },
  {
   "cell_type": "markdown",
   "id": "633173da-1fb3-4728-89a6-7321348bcd6f",
   "metadata": {},
   "source": [
    "## relu函数"
   ]
  },
  {
   "cell_type": "code",
   "execution_count": 7,
   "id": "cbf5c245-4342-4ce5-9421-3d3504f5a494",
   "metadata": {},
   "outputs": [],
   "source": [
    "def relu(x):\n",
    "    return np.maximum(x,0)"
   ]
  }
 ],
 "metadata": {
  "kernelspec": {
   "display_name": "Python 3 (ipykernel)",
   "language": "python",
   "name": "python3"
  },
  "language_info": {
   "codemirror_mode": {
    "name": "ipython",
    "version": 3
   },
   "file_extension": ".py",
   "mimetype": "text/x-python",
   "name": "python",
   "nbconvert_exporter": "python",
   "pygments_lexer": "ipython3",
   "version": "3.12.7"
  }
 },
 "nbformat": 4,
 "nbformat_minor": 5
}
